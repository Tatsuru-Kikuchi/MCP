{
 "cells": [
  {
   "cell_type": "markdown",
   "metadata": {},
   "source": [
    "# Daily Log Returns Analysis (2020-2024)\n",
    "\n",
    "This notebook analyzes daily log returns for S&P 500, Gold, Bitcoin, Ethereum, and XRP from 2020 to 2024.\n",
    "Log returns are used for better statistical properties and visualization compared to simple returns."
   ]
  },
  {
   "cell_type": "code",
   "execution_count": null,
   "metadata": {},
   "outputs": [],
   "source": [
    "# Import required libraries\n",
    "import pandas as pd\n",
    "import numpy as np\n",
    "import matplotlib.pyplot as plt\n",
    "import seaborn as sns\n",
    "from datetime import datetime\n",
    "import warnings\n",
    "warnings.filterwarnings('ignore')\n",
    "\n",
    "# Set display options\n",
    "pd.set_option('display.max_columns', None)\n",
    "pd.set_option('display.width', None)\n",
    "plt.style.use('seaborn-v0_8-darkgrid')\n",
    "\n",
    "print(\"Libraries imported successfully!\")"
   ]
  },
  {
   "cell_type": "markdown",
   "metadata": {},
   "source": [
    "## 1. Load the Data and Convert to Log Returns"
   ]
  },
  {
   "cell_type": "code",
   "execution_count": null,
   "metadata": {},
   "outputs": [],
   "source": [
    "# Load the combined data file\n",
    "df = pd.read_csv('all_assets_daily_returns_2020_2024.csv')\n",
    "df['Date'] = pd.to_datetime(df['Date'])\n",
    "df.set_index('Date', inplace=True)\n",
    "\n",
    "# Convert percentage returns to log returns\n",
    "# Formula: log_return = ln(1 + simple_return/100)\n",
    "return_columns = [col for col in df.columns if col.endswith('_Return')]\n",
    "assets = [col.replace('_Return', '') for col in return_columns]\n",
    "\n",
    "for asset in assets:\n",
    "    # Convert simple returns to log returns\n",
    "    simple_returns = df[f'{asset}_Return'] / 100  # Convert percentage to decimal\n",
    "    log_returns = np.log(1 + simple_returns) * 100  # Convert back to percentage for easier interpretation\n",
    "    df[f'{asset}_LogReturn'] = log_returns\n",
    "\n",
    "# Update column lists to use log returns\n",
    "log_return_columns = [f'{asset}_LogReturn' for asset in assets]\n",
    "\n",
    "print(f\"Data shape: {df.shape}\")\n",
    "print(f\"\\nColumns: {list(df.columns)}\")\n",
    "print(f\"\\nDate range: {df.index.min()} to {df.index.max()}\")\n",
    "print(f\"\\nFirst few rows of log returns:\")\n",
    "df[log_return_columns].head()"
   ]
  },
  {
   "cell_type": "markdown",
   "metadata": {},
   "source": [
    "## 2. Summary Statistics (Log Returns)"
   ]
  },
  {
   "cell_type": "code",
   "execution_count": null,
   "metadata": {},
   "outputs": [],
   "source": [
    "# Calculate summary statistics for log returns\n",
    "summary_stats = pd.DataFrame(index=['Mean', 'Std Dev', 'Min', 'Max', 'Skewness', 'Kurtosis', 'Sharpe Ratio'])\n",
    "\n",
    "for asset in assets:\n",
    "    log_returns = df[f'{asset}_LogReturn'].dropna()\n",
    "    summary_stats[asset] = [\n",
    "        log_returns.mean(),\n",
    "        log_returns.std(),\n",
    "        log_returns.min(),\n",
    "        log_returns.max(),\n",
    "        log_returns.skew(),\n",
    "        log_returns.kurtosis(),\n",
    "        (log_returns.mean() / log_returns.std()) * np.sqrt(252)  # Annualized Sharpe Ratio\n",
    "    ]\n",
    "\n",
    "print(\"Summary Statistics for Daily Log Returns (%):\\n\")\n",
    "summary_stats.round(4)"
   ]
  },
  {
   "cell_type": "markdown",
   "metadata": {},
   "source": [
    "## 3. Correlation Analysis (Log Returns)"
   ]
  },
  {
   "cell_type": "code",
   "execution_count": null,
   "metadata": {},
   "outputs": [],
   "source": [
    "# Calculate correlation matrix for log returns\n",
    "correlation_matrix = df[log_return_columns].corr()\n",
    "\n",
    "# Create correlation heatmap\n",
    "plt.figure(figsize=(10, 8))\n",
    "mask = np.triu(np.ones_like(correlation_matrix, dtype=bool))\n",
    "sns.heatmap(correlation_matrix, \n",
    "            mask=mask,\n",
    "            annot=True, \n",
    "            fmt='.3f',\n",
    "            cmap='RdBu_r', \n",
    "            center=0,\n",
    "            square=True,\n",
    "            linewidths=1,\n",
    "            cbar_kws={\"shrink\": .8})\n",
    "plt.title('Daily Log Returns Correlation Matrix (2020-2024)', fontsize=16, pad=20)\n",
    "plt.tight_layout()\n",
    "plt.show()\n",
    "\n",
    "# Display correlation matrix\n",
    "print(\"\\nCorrelation Matrix (Log Returns):\")\n",
    "correlation_matrix"
   ]
  },
  {
   "cell_type": "markdown",
   "metadata": {},
   "source": [
    "## 4. Log Return Distributions"
   ]
  },
  {
   "cell_type": "code",
   "execution_count": null,
   "metadata": {},
   "outputs": [],
   "source": [
    "# Plot log return distributions\n",
    "fig, axes = plt.subplots(2, 3, figsize=(15, 10))\n",
    "axes = axes.flatten()\n",
    "\n",
    "for i, asset in enumerate(assets):\n",
    "    log_returns = df[f'{asset}_LogReturn'].dropna()\n",
    "    axes[i].hist(log_returns, bins=50, density=True, alpha=0.7, color='skyblue', edgecolor='black')\n",
    "    axes[i].set_title(f'{asset} Daily Log Returns Distribution', fontsize=12)\n",
    "    axes[i].set_xlabel('Daily Log Return (%)')\n",
    "    axes[i].set_ylabel('Density')\n",
    "    \n",
    "    # Add normal distribution overlay\n",
    "    from scipy import stats\n",
    "    x = np.linspace(log_returns.min(), log_returns.max(), 100)\n",
    "    axes[i].plot(x, stats.norm.pdf(x, log_returns.mean(), log_returns.std()), 'r-', linewidth=2, label='Normal')\n",
    "    axes[i].legend()\n",
    "\n",
    "# Remove empty subplot\n",
    "fig.delaxes(axes[-1])\n",
    "plt.tight_layout()\n",
    "plt.show()"
   ]
  },
  {
   "cell_type": "markdown",
   "metadata": {},
   "source": [
    "## 5. Cumulative Returns (from Log Returns)"
   ]
  },
  {
   "cell_type": "code",
   "execution_count": null,
   "metadata": {},
   "outputs": [],
   "source": [
    "# Calculate cumulative returns from log returns\n",
    "# Cumulative log return = sum of log returns\n",
    "# Convert back to simple return for display: exp(cumulative_log_return) - 1\n",
    "plt.figure(figsize=(14, 8))\n",
    "\n",
    "colors = ['#1f77b4', '#ff7f0e', '#2ca02c', '#d62728', '#9467bd']\n",
    "for i, asset in enumerate(assets):\n",
    "    log_returns = df[f'{asset}_LogReturn'] / 100  # Convert to decimal\n",
    "    cumulative_log_returns = log_returns.cumsum()\n",
    "    cumulative_simple_returns = (np.exp(cumulative_log_returns) - 1) * 100  # Convert to percentage\n",
    "    plt.plot(df.index, cumulative_simple_returns, label=asset, color=colors[i], linewidth=2)\n",
    "\n",
    "plt.xlabel('Date', fontsize=12)\n",
    "plt.ylabel('Cumulative Return (%)', fontsize=12)\n",
    "plt.title('Cumulative Returns from Log Returns (2020-2024)', fontsize=16, pad=20)\n",
    "plt.legend(loc='best', fontsize=10)\n",
    "plt.grid(True, alpha=0.3)\n",
    "plt.tight_layout()\n",
    "plt.show()\n",
    "\n",
    "# Display final cumulative returns\n",
    "print(\"\\nFinal Cumulative Returns (from Log Returns):\")\n",
    "for asset in assets:\n",
    "    log_returns = df[f'{asset}_LogReturn'] / 100\n",
    "    final_return = (np.exp(log_returns.cumsum().iloc[-1]) - 1) * 100\n",
    "    print(f\"{asset}: {final_return:.2f}%\")"
   ]
  },
  {
   "cell_type": "markdown",
   "metadata": {},
   "source": [
    "## 6. Rolling Statistics (Log Returns)"
   ]
  },
  {
   "cell_type": "code",
   "execution_count": null,
   "metadata": {},
   "outputs": [],
   "source": [
    "# Calculate rolling statistics for log returns\n",
    "window = 30  # 30-day rolling window\n",
    "\n",
    "fig, (ax1, ax2) = plt.subplots(2, 1, figsize=(14, 10))\n",
    "\n",
    "# Rolling volatility\n",
    "for asset in assets:\n",
    "    rolling_vol = df[f'{asset}_LogReturn'].rolling(window=window).std() * np.sqrt(252)\n",
    "    ax1.plot(df.index, rolling_vol, label=f'{asset}', linewidth=1.5)\n",
    "\n",
    "ax1.set_title(f'{window}-Day Rolling Annualized Volatility (Log Returns)', fontsize=14)\n",
    "ax1.set_ylabel('Volatility (%)', fontsize=12)\n",
    "ax1.legend(loc='best')\n",
    "ax1.grid(True, alpha=0.3)\n",
    "\n",
    "# Rolling correlation with S&P 500\n",
    "for asset in assets[1:]:  # Skip S&P 500 itself\n",
    "    rolling_corr = df['SP500_LogReturn'].rolling(window=window).corr(df[f'{asset}_LogReturn'])\n",
    "    ax2.plot(df.index, rolling_corr, label=f'{asset} vs S&P 500', linewidth=1.5)\n",
    "\n",
    "ax2.set_title(f'{window}-Day Rolling Correlation with S&P 500 (Log Returns)', fontsize=14)\n",
    "ax2.set_xlabel('Date', fontsize=12)\n",
    "ax2.set_ylabel('Correlation', fontsize=12)\n",
    "ax2.legend(loc='best')\n",
    "ax2.grid(True, alpha=0.3)\n",
    "ax2.set_ylim(-1, 1)\n",
    "\n",
    "plt.tight_layout()\n",
    "plt.show()"
   ]
  },
  {
   "cell_type": "markdown",
   "metadata": {},
   "source": [
    "## 7. Risk-Return Analysis (Log Returns)"
   ]
  },
  {
   "cell_type": "code",
   "execution_count": null,
   "metadata": {},
   "outputs": [],
   "source": [
    "# Risk-Return scatter plot using log returns\n",
    "plt.figure(figsize=(10, 8))\n",
    "\n",
    "# Calculate annualized returns and volatility from log returns\n",
    "annual_returns = []\n",
    "annual_vols = []\n",
    "\n",
    "for asset in assets:\n",
    "    log_returns = df[f'{asset}_LogReturn'].dropna()\n",
    "    annual_return = log_returns.mean() * 252\n",
    "    annual_vol = log_returns.std() * np.sqrt(252)\n",
    "    annual_returns.append(annual_return)\n",
    "    annual_vols.append(annual_vol)\n",
    "    \n",
    "    plt.scatter(annual_vol, annual_return, s=200, alpha=0.7)\n",
    "    plt.annotate(asset, (annual_vol, annual_return), \n",
    "                xytext=(5, 5), textcoords='offset points', fontsize=12)\n",
    "\n",
    "plt.xlabel('Annualized Volatility (%) - Log Returns', fontsize=12)\n",
    "plt.ylabel('Annualized Return (%) - Log Returns', fontsize=12)\n",
    "plt.title('Risk-Return Profile using Log Returns (2020-2024)', fontsize=16, pad=20)\n",
    "plt.grid(True, alpha=0.3)\n",
    "\n",
    "# Add efficient frontier line (simplified)\n",
    "plt.plot([0, max(annual_vols)*1.1], [0, max(annual_vols)*1.1*0.5], \n",
    "         'k--', alpha=0.3, label='Risk-Return Trade-off')\n",
    "plt.legend()\n",
    "plt.tight_layout()\n",
    "plt.show()"
   ]
  },
  {
   "cell_type": "markdown",
   "metadata": {},
   "source": [
    "## 8. Monthly Performance Heatmap (Log Returns)"
   ]
  },
  {
   "cell_type": "code",
   "execution_count": null,
   "metadata": {},
   "outputs": [],
   "source": [
    "# Create monthly returns heatmap for each asset using log returns\n",
    "fig, axes = plt.subplots(3, 2, figsize=(16, 12))\n",
    "axes = axes.flatten()\n",
    "\n",
    "for i, asset in enumerate(assets):\n",
    "    # Calculate monthly returns from log returns\n",
    "    # Monthly log return = sum of daily log returns in that month\n",
    "    monthly_log_returns = df[f'{asset}_LogReturn'].resample('M').sum()\n",
    "    \n",
    "    # Pivot to create year-month matrix\n",
    "    monthly_pivot = monthly_log_returns.to_frame('return')\n",
    "    monthly_pivot['Year'] = monthly_pivot.index.year\n",
    "    monthly_pivot['Month'] = monthly_pivot.index.month\n",
    "    monthly_matrix = monthly_pivot.pivot(index='Year', columns='Month', values='return')\n",
    "    \n",
    "    # Create heatmap\n",
    "    sns.heatmap(monthly_matrix, \n",
    "                annot=True, \n",
    "                fmt='.1f',\n",
    "                cmap='RdYlGn', \n",
    "                center=0,\n",
    "                ax=axes[i],\n",
    "                cbar_kws={'label': 'Log Return (%)'})\n",
    "    axes[i].set_title(f'{asset} Monthly Log Returns (%)', fontsize=12)\n",
    "    axes[i].set_xlabel('Month')\n",
    "    axes[i].set_ylabel('Year')\n",
    "\n",
    "# Remove empty subplot\n",
    "fig.delaxes(axes[-1])\n",
    "plt.tight_layout()\n",
    "plt.show()"
   ]
  },
  {
   "cell_type": "markdown",
   "metadata": {},
   "source": [
    "## 9. Comparison: Simple vs Log Returns"
   ]
  },
  {
   "cell_type": "code",
   "execution_count": null,
   "metadata": {},
   "outputs": [],
   "source": [
    "# Compare distributions of simple returns vs log returns for Bitcoin (highest volatility)\n",
    "fig, (ax1, ax2) = plt.subplots(1, 2, figsize=(15, 6))\n",
    "\n",
    "# Simple returns\n",
    "bitcoin_simple = df['Bitcoin_Return'].dropna()\n",
    "ax1.hist(bitcoin_simple, bins=50, density=True, alpha=0.7, color='orange', edgecolor='black')\n",
    "ax1.set_title('Bitcoin Simple Returns Distribution', fontsize=14)\n",
    "ax1.set_xlabel('Daily Return (%)')\n",
    "ax1.set_ylabel('Density')\n",
    "ax1.axvline(bitcoin_simple.mean(), color='red', linestyle='--', label=f'Mean: {bitcoin_simple.mean():.3f}%')\n",
    "ax1.legend()\n",
    "\n",
    "# Log returns\n",
    "bitcoin_log = df['Bitcoin_LogReturn'].dropna()\n",
    "ax2.hist(bitcoin_log, bins=50, density=True, alpha=0.7, color='blue', edgecolor='black')\n",
    "ax2.set_title('Bitcoin Log Returns Distribution', fontsize=14)\n",
    "ax2.set_xlabel('Daily Log Return (%)')\n",
    "ax2.set_ylabel('Density')\n",
    "ax2.axvline(bitcoin_log.mean(), color='red', linestyle='--', label=f'Mean: {bitcoin_log.mean():.3f}%')\n",
    "ax2.legend()\n",
    "\n",
    "plt.tight_layout()\n",
    "plt.show()\n",
    "\n",
    "# Print comparison statistics\n",
    "print(\"Bitcoin Returns Comparison:\")\n",
    "print(f\"Simple Returns - Mean: {bitcoin_simple.mean():.4f}%, Std: {bitcoin_simple.std():.4f}%, Skew: {bitcoin_simple.skew():.4f}\")\n",
    "print(f\"Log Returns    - Mean: {bitcoin_log.mean():.4f}%, Std: {bitcoin_log.std():.4f}%, Skew: {bitcoin_log.skew():.4f}\")\n",
    "print(\"\\nLog returns typically show less skewness and are more suitable for statistical analysis.\")"
   ]
  },
  {
   "cell_type": "markdown",
   "metadata": {},
   "source": [
    "## 10. Export Analysis Results"
   ]
  },
  {
   "cell_type": "code",
   "execution_count": null,
   "metadata": {},
   "outputs": [],
   "source": [
    "# Export summary statistics for log returns\n",
    "summary_stats.to_csv('analysis_summary_statistics_log_returns.csv')\n",
    "print(\"Log returns summary statistics exported to 'analysis_summary_statistics_log_returns.csv'\")\n",
    "\n",
    "# Export correlation matrix for log returns\n",
    "correlation_matrix.to_csv('analysis_correlation_matrix_log_returns.csv')\n",
    "print(\"Log returns correlation matrix exported to 'analysis_correlation_matrix_log_returns.csv'\")\n",
    "\n",
    "# Export log returns data\n",
    "df[log_return_columns].to_csv('daily_log_returns_2020_2024.csv')\n",
    "print(\"Log returns data exported to 'daily_log_returns_2020_2024.csv'\")\n",
    "\n",
    "# Create a comprehensive report\n",
    "report = {\n",
    "    'analysis_date': datetime.now().strftime('%Y-%m-%d'),\n",
    "    'analysis_type': 'Log Returns Analysis',\n",
    "    'data_period': {\n",
    "        'start': str(df.index.min().date()),\n",
    "        'end': str(df.index.max().date()),\n",
    "        'total_days': len(df)\n",
    "    },\n",
    "    'assets_analyzed': assets,\n",
    "    'key_findings': {\n",
    "        'best_performer': assets[annual_returns.index(max(annual_returns))],\n",
    "        'highest_volatility': assets[annual_vols.index(max(annual_vols))],\n",
    "        'lowest_volatility': assets[annual_vols.index(min(annual_vols))],\n",
    "        'note': 'Analysis performed using log returns for better statistical properties'\n",
    "    },\n",
    "    'log_returns_benefits': [\n",
    "        'Time additivity: log returns can be summed over time',\n",
    "        'Better distributional properties (closer to normal)',\n",
    "        'Reduced skewness compared to simple returns',\n",
    "        'More suitable for statistical modeling and risk analysis'\n",
    "    ]\n",
    "}\n",
    "\n",
    "import json\n",
    "with open('analysis_report_log_returns.json', 'w') as f:\n",
    "    json.dump(report, f, indent=2)\n",
    "    \n",
    "print(\"\\nLog returns analysis report exported to 'analysis_report_log_returns.json'\")\n",
    "print(\"\\nLog Returns Analysis complete!\")\n",
    "print(\"\\nBenefits of using log returns:\")\n",
    "print(\"- Better statistical properties (closer to normal distribution)\")\n",
    "print(\"- Time-additive (can sum log returns over periods)\")\n",
    "print(\"- Reduced skewness, especially for high-volatility assets\")\n",
    "print(\"- More appropriate for portfolio optimization and risk modeling\")"
   ]
  }
 ],
 "metadata": {
  "kernelspec": {
   "display_name": "Python 3",
   "language": "python",
   "name": "python3"
  },
  "language_info": {
   "codemirror_mode": {
    "name": "ipython",
    "version": 3
   },
   "file_extension": ".py",
   "mimetype": "text/x-python",
   "name": "python",
   "nbconvert_exporter": "python",
   "pygments_lexer": "ipython3",
   "version": "3.8.0"
  }
 },
 "nbformat": 4,
 "nbformat_minor": 4
}