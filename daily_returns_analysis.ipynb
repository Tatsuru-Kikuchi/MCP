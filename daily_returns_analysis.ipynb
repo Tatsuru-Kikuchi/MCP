{
 "cells": [
  {
   "cell_type": "markdown",
   "metadata": {},
   "source": [
    "# Daily Returns Analysis (2020-2024)\n",
    "\n",
    "This notebook analyzes daily returns for S&P 500, Gold, Bitcoin, Ethereum, and XRP from 2020 to 2024."
   ]
  },
  {
   "cell_type": "code",
   "execution_count": null,
   "metadata": {},
   "outputs": [],
   "source": [
    "# Import required libraries\n",
    "import pandas as pd\n",
    "import numpy as np\n",
    "import matplotlib.pyplot as plt\n",
    "import seaborn as sns\n",
    "from datetime import datetime\n",
    "import warnings\n",
    "warnings.filterwarnings('ignore')\n",
    "\n",
    "# Set display options\n",
    "pd.set_option('display.max_columns', None)\n",
    "pd.set_option('display.width', None)\n",
    "plt.style.use('seaborn-v0_8-darkgrid')\n",
    "\n",
    "print(\"Libraries imported successfully!\")"
   ]
  },
  {
   "cell_type": "markdown",
   "metadata": {},
   "source": [
    "## 1. Load the Data"
   ]
  },
  {
   "cell_type": "code",
   "execution_count": null,
   "metadata": {},
   "outputs": [],
   "source": [
    "# Load the combined data file\n",
    "df = pd.read_csv('all_assets_daily_returns_2020_2024.csv')\n",
    "df['Date'] = pd.to_datetime(df['Date'])\n",
    "df.set_index('Date', inplace=True)\n",
    "\n",
    "print(f\"Data shape: {df.shape}\")\n",
    "print(f\"\\nColumns: {list(df.columns)}\")\n",
    "print(f\"\\nDate range: {df.index.min()} to {df.index.max()}\")\n",
    "print(f\"\\nFirst few rows:\")\n",
    "df.head()"
   ]
  },
  {
   "cell_type": "markdown",
   "metadata": {},
   "source": [
    "## 2. Summary Statistics"
   ]
  },
  {
   "cell_type": "code",
   "execution_count": null,
   "metadata": {},
   "outputs": [],
   "source": [
    "# Calculate summary statistics for returns\n",
    "return_columns = [col for col in df.columns if col.endswith('_Return')]\n",
    "assets = [col.replace('_Return', '') for col in return_columns]\n",
    "\n",
    "summary_stats = pd.DataFrame(index=['Mean', 'Std Dev', 'Min', 'Max', 'Skewness', 'Kurtosis', 'Sharpe Ratio'])\n",
    "\n",
    "for asset in assets:\n",
    "    returns = df[f'{asset}_Return'].dropna()\n",
    "    summary_stats[asset] = [\n",
    "        returns.mean(),\n",
    "        returns.std(),\n",
    "        returns.min(),\n",
    "        returns.max(),\n",
    "        returns.skew(),\n",
    "        returns.kurtosis(),\n",
    "        (returns.mean() / returns.std()) * np.sqrt(252)  # Annualized Sharpe Ratio\n",
    "    ]\n",
    "\n",
    "print(\"Summary Statistics for Daily Returns (%):\\n\")\n",
    "summary_stats.round(4)"
   ]
  },
  {
   "cell_type": "markdown",
   "metadata": {},
   "source": [
    "## 3. Correlation Analysis"
   ]
  },
  {
   "cell_type": "code",
   "execution_count": null,
   "metadata": {},
   "outputs": [],
   "source": [
    "# Calculate correlation matrix\n",
    "correlation_matrix = df[return_columns].corr()\n",
    "\n",
    "# Create correlation heatmap\n",
    "plt.figure(figsize=(10, 8))\n",
    "mask = np.triu(np.ones_like(correlation_matrix, dtype=bool))\n",
    "sns.heatmap(correlation_matrix, \n",
    "            mask=mask,\n",
    "            annot=True, \n",
    "            fmt='.3f',\n",
    "            cmap='RdBu_r', \n",
    "            center=0,\n",
    "            square=True,\n",
    "            linewidths=1,\n",
    "            cbar_kws={\"shrink\": .8})\n",
    "plt.title('Daily Returns Correlation Matrix (2020-2024)', fontsize=16, pad=20)\n",
    "plt.tight_layout()\n",
    "plt.show()\n",
    "\n",
    "# Display correlation matrix\n",
    "print(\"\\nCorrelation Matrix:\")\n",
    "correlation_matrix"
   ]
  },
  {
   "cell_type": "markdown",
   "metadata": {},
   "source": [
    "## 4. Return Distributions"
   ]
  },
  {
   "cell_type": "code",
   "execution_count": null,
   "metadata": {},
   "outputs": [],
   "source": [
    "# Plot return distributions\n",
    "fig, axes = plt.subplots(2, 3, figsize=(15, 10))\n",
    "axes = axes.flatten()\n",
    "\n",
    "for i, asset in enumerate(assets):\n",
    "    returns = df[f'{asset}_Return'].dropna()\n",
    "    axes[i].hist(returns, bins=50, density=True, alpha=0.7, color='skyblue', edgecolor='black')\n",
    "    axes[i].set_title(f'{asset} Daily Returns Distribution', fontsize=12)\n",
    "    axes[i].set_xlabel('Daily Return (%)')\n",
    "    axes[i].set_ylabel('Density')\n",
    "    \n",
    "    # Add normal distribution overlay\n",
    "    from scipy import stats\n",
    "    x = np.linspace(returns.min(), returns.max(), 100)\n",
    "    axes[i].plot(x, stats.norm.pdf(x, returns.mean(), returns.std()), 'r-', linewidth=2, label='Normal')\n",
    "    axes[i].legend()\n",
    "\n",
    "# Remove empty subplot\n",
    "fig.delaxes(axes[-1])\n",
    "plt.tight_layout()\n",
    "plt.show()"
   ]
  },
  {
   "cell_type": "markdown",
   "metadata": {},
   "source": [
    "## 5. Cumulative Returns"
   ]
  },
  {
   "cell_type": "code",
   "execution_count": null,
   "metadata": {},
   "outputs": [],
   "source": [
    "# Calculate cumulative returns\n",
    "plt.figure(figsize=(14, 8))\n",
    "\n",
    "colors = ['#1f77b4', '#ff7f0e', '#2ca02c', '#d62728', '#9467bd']\n",
    "for i, asset in enumerate(assets):\n",
    "    cumulative_returns = (1 + df[f'{asset}_Return']/100).cumprod() - 1\n",
    "    plt.plot(df.index, cumulative_returns * 100, label=asset, color=colors[i], linewidth=2)\n",
    "\n",
    "plt.xlabel('Date', fontsize=12)\n",
    "plt.ylabel('Cumulative Return (%)', fontsize=12)\n",
    "plt.title('Cumulative Returns (2020-2024)', fontsize=16, pad=20)\n",
    "plt.legend(loc='best', fontsize=10)\n",
    "plt.grid(True, alpha=0.3)\n",
    "plt.tight_layout()\n",
    "plt.show()\n",
    "\n",
    "# Display final cumulative returns\n",
    "print(\"\\nFinal Cumulative Returns:\")\n",
    "for asset in assets:\n",
    "    final_return = ((1 + df[f'{asset}_Return']/100).cumprod() - 1).iloc[-1] * 100\n",
    "    print(f\"{asset}: {final_return:.2f}%\")"
   ]
  },
  {
   "cell_type": "markdown",
   "metadata": {},
   "source": [
    "## 6. Rolling Statistics"
   ]
  },
  {
   "cell_type": "code",
   "execution_count": null,
   "metadata": {},
   "outputs": [],
   "source": [
    "# Calculate rolling statistics\n",
    "window = 30  # 30-day rolling window\n",
    "\n",
    "fig, (ax1, ax2) = plt.subplots(2, 1, figsize=(14, 10))\n",
    "\n",
    "# Rolling volatility\n",
    "for asset in assets:\n",
    "    rolling_vol = df[f'{asset}_Return'].rolling(window=window).std() * np.sqrt(252)\n",
    "    ax1.plot(df.index, rolling_vol, label=f'{asset}', linewidth=1.5)\n",
    "\n",
    "ax1.set_title(f'{window}-Day Rolling Annualized Volatility', fontsize=14)\n",
    "ax1.set_ylabel('Volatility (%)', fontsize=12)\n",
    "ax1.legend(loc='best')\n",
    "ax1.grid(True, alpha=0.3)\n",
    "\n",
    "# Rolling correlation with S&P 500\n",
    "for asset in assets[1:]:  # Skip S&P 500 itself\n",
    "    rolling_corr = df['SP500_Return'].rolling(window=window).corr(df[f'{asset}_Return'])\n",
    "    ax2.plot(df.index, rolling_corr, label=f'{asset} vs S&P 500', linewidth=1.5)\n",
    "\n",
    "ax2.set_title(f'{window}-Day Rolling Correlation with S&P 500', fontsize=14)\n",
    "ax2.set_xlabel('Date', fontsize=12)\n",
    "ax2.set_ylabel('Correlation', fontsize=12)\n",
    "ax2.legend(loc='best')\n",
    "ax2.grid(True, alpha=0.3)\n",
    "ax2.set_ylim(-1, 1)\n",
    "\n",
    "plt.tight_layout()\n",
    "plt.show()"
   ]
  },
  {
   "cell_type": "markdown",
   "metadata": {},
   "source": [
    "## 7. Risk-Return Analysis"
   ]
  },
  {
   "cell_type": "code",
   "execution_count": null,
   "metadata": {},
   "outputs": [],
   "source": [
    "# Risk-Return scatter plot\n",
    "plt.figure(figsize=(10, 8))\n",
    "\n",
    "# Calculate annualized returns and volatility\n",
    "annual_returns = []\n",
    "annual_vols = []\n",
    "\n",
    "for asset in assets:\n",
    "    returns = df[f'{asset}_Return'].dropna()\n",
    "    annual_return = returns.mean() * 252\n",
    "    annual_vol = returns.std() * np.sqrt(252)\n",
    "    annual_returns.append(annual_return)\n",
    "    annual_vols.append(annual_vol)\n",
    "    \n",
    "    plt.scatter(annual_vol, annual_return, s=200, alpha=0.7)\n",
    "    plt.annotate(asset, (annual_vol, annual_return), \n",
    "                xytext=(5, 5), textcoords='offset points', fontsize=12)\n",
    "\n",
    "plt.xlabel('Annualized Volatility (%)', fontsize=12)\n",
    "plt.ylabel('Annualized Return (%)', fontsize=12)\n",
    "plt.title('Risk-Return Profile (2020-2024)', fontsize=16, pad=20)\n",
    "plt.grid(True, alpha=0.3)\n",
    "\n",
    "# Add efficient frontier line (simplified)\n",
    "plt.plot([0, max(annual_vols)*1.1], [0, max(annual_vols)*1.1*0.5], \n",
    "         'k--', alpha=0.3, label='Risk-Return Trade-off')\n",
    "plt.legend()\n",
    "plt.tight_layout()\n",
    "plt.show()"
   ]
  },
  {
   "cell_type": "markdown",
   "metadata": {},
   "source": [
    "## 8. Monthly Performance Heatmap"
   ]
  },
  {
   "cell_type": "code",
   "execution_count": null,
   "metadata": {},
   "outputs": [],
   "source": [
    "# Create monthly returns heatmap for each asset\n",
    "fig, axes = plt.subplots(3, 2, figsize=(16, 12))\n",
    "axes = axes.flatten()\n",
    "\n",
    "for i, asset in enumerate(assets):\n",
    "    # Calculate monthly returns\n",
    "    monthly_returns = df[f'{asset}_Return'].resample('M').apply(lambda x: ((1 + x/100).prod() - 1) * 100)\n",
    "    \n",
    "    # Pivot to create year-month matrix\n",
    "    monthly_pivot = monthly_returns.to_frame('return')\n",
    "    monthly_pivot['Year'] = monthly_pivot.index.year\n",
    "    monthly_pivot['Month'] = monthly_pivot.index.month\n",
    "    monthly_matrix = monthly_pivot.pivot(index='Year', columns='Month', values='return')\n",
    "    \n",
    "    # Create heatmap\n",
    "    sns.heatmap(monthly_matrix, \n",
    "                annot=True, \n",
    "                fmt='.1f',\n",
    "                cmap='RdYlGn', \n",
    "                center=0,\n",
    "                ax=axes[i],\n",
    "                cbar_kws={'label': 'Return (%)'})\n",
    "    axes[i].set_title(f'{asset} Monthly Returns (%)', fontsize=12)\n",
    "    axes[i].set_xlabel('Month')\n",
    "    axes[i].set_ylabel('Year')\n",
    "\n",
    "# Remove empty subplot\n",
    "fig.delaxes(axes[-1])\n",
    "plt.tight_layout()\n",
    "plt.show()"
   ]
  },
  {
   "cell_type": "markdown",
   "metadata": {},
   "source": [
    "## 9. Export Analysis Results"
   ]
  },
  {
   "cell_type": "code",
   "execution_count": null,
   "metadata": {},
   "outputs": [],
   "source": [
    "# Export summary statistics\n",
    "summary_stats.to_csv('analysis_summary_statistics.csv')\n",
    "print(\"Summary statistics exported to 'analysis_summary_statistics.csv'\")\n",
    "\n",
    "# Export correlation matrix\n",
    "correlation_matrix.to_csv('analysis_correlation_matrix.csv')\n",
    "print(\"Correlation matrix exported to 'analysis_correlation_matrix.csv'\")\n",
    "\n",
    "# Create a comprehensive report\n",
    "report = {\n",
    "    'analysis_date': datetime.now().strftime('%Y-%m-%d'),\n",
    "    'data_period': {\n",
    "        'start': str(df.index.min().date()),\n",
    "        'end': str(df.index.max().date()),\n",
    "        'total_days': len(df)\n",
    "    },\n",
    "    'assets_analyzed': assets,\n",
    "    'key_findings': {\n",
    "        'best_performer': assets[annual_returns.index(max(annual_returns))],\n",
    "        'highest_volatility': assets[annual_vols.index(max(annual_vols))],\n",
    "        'lowest_volatility': assets[annual_vols.index(min(annual_vols))],\n",
    "        'highest_correlation_pair': 'See correlation matrix for details'\n",
    "    }\n",
    "}\n",
    "\n",
    "import json\n",
    "with open('analysis_report.json', 'w') as f:\n",
    "    json.dump(report, f, indent=2)\n",
    "    \n",
    "print(\"\\nAnalysis report exported to 'analysis_report.json'\")\n",
    "print(\"\\nAnalysis complete!\")"
   ]
  }
 ],
 "metadata": {
  "kernelspec": {
   "display_name": "Python 3",
   "language": "python",
   "name": "python3"
  },
  "language_info": {
   "codemirror_mode": {
    "name": "ipython",
    "version": 3
   },
   "file_extension": ".py",
   "mimetype": "text/x-python",
   "name": "python",
   "nbconvert_exporter": "python",
   "pygments_lexer": "ipython3",
   "version": "3.8.0"
  }
 },
 "nbformat": 4,
 "nbformat_minor": 4
}